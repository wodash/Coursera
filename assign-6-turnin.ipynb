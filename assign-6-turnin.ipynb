{
 "cells": [
  {
   "cell_type": "markdown",
   "metadata": {},
   "source": [
    "# San Francisco's Southern district leads in crime."
   ]
  },
  {
   "cell_type": "markdown",
   "metadata": {},
   "source": [
    "An analysis of San Francisco's crime reports for summer of 2014 (June - Sept) reveals the top 5 districts with the higest number of crimes reported."
   ]
  },
  {
   "cell_type": "markdown",
   "metadata": {},
   "source": [
    "Lets try yo understand the crime reports to answer a few questions like:\n",
    "*  Which part of San Feansisco is the most violent (most amount of crime reported)\n",
    "*  How does the average crime rate look like over a week? does the day of the week effect the crime rate?\n",
    "*  How does the crime rate change over an average month?\n",
    "*  How do the top 5 districts in terms of crime reported compare with each other?\n",
    "    \n",
    "Lets dig into the data."
   ]
  },
  {
   "cell_type": "markdown",
   "metadata": {},
   "source": [
    "### Dataset Overview"
   ]
  },
  {
   "cell_type": "markdown",
   "metadata": {},
   "source": [
    "We have taken a sample of data provided by the San Francisco Govt at sfgov.org\n",
    "\n",
    "*  This sample is of the summer months of 2014 (June, Aug, Sept), for all the districts.\n",
    "\n",
    "*  This sample contains about 30,000 incidents of crime reported and recorded across San Francisco.\n",
    "\n",
    "Source of sample data : __[Crime repport dataset](./sanfrancisco_incidents_summer_2014.csv)__"
   ]
  },
  {
   "cell_type": "markdown",
   "metadata": {},
   "source": [
    "### Analysis"
   ]
  },
  {
   "cell_type": "markdown",
   "metadata": {},
   "source": [
    "Here, after an initial analysis, we have a plot showing *crimes reported* by *districts* sorted from most to least.\n",
    "\n",
    "As we can clearly see, the southern district recorded the most number of crimes _by far_ over the summer. Following at nearly 3/4 of southern district's total are Mission, Northern, central, followed by Bayview at nearly half of southern district's total.\n",
    "\n",
    "Richmond comes in at the tail end, indicating that it is the safest district."
   ]
  },
  {
   "cell_type": "markdown",
   "metadata": {},
   "source": [
    "<img src=\"./by_category_plot.png\" alt=\"A plot showing 'crimes reported' by 'districts'\" title=\"'crimes reported' by 'districts'\" />\n",
    "__[Source of image](./assign6-2.ipynb)__"
   ]
  },
  {
   "cell_type": "markdown",
   "metadata": {},
   "source": [
    "#### Crime rate over a week\n",
    "Here I try to plot a graph of crimes committed in a week against average crime rate per hour.\n",
    "\n",
    "also note that, I try to over lay the same data for the top 5 districts for comparision."
   ]
  },
  {
   "cell_type": "markdown",
   "metadata": {},
   "source": [
    "<img src=\"./by_week_plot.png\" alt=\"A plot showing 'crimes over a week' by 'hourly average'\" title=\"'crimes over a week' by 'hourly average'\" />\n",
    "_`The 'faint' lines indicate the actual crime rates over each week, while the 'bold' lines indicates the average of all weeks throughout the summer`_\n",
    "\n",
    "__[Source of image](./assign6-2.ipynb)__"
   ]
  },
  {
   "cell_type": "markdown",
   "metadata": {},
   "source": [
    "In the graph above we can clearly see that Southern district has a pretty high incidence of crime, also we see that Northern, Central and Mission districts have almost identical average crime rates.\n",
    "\n",
    "Also notice how the graph lines arc slightly upwards towards weekends. An interesting question indeed, why do crimes shootup during the weekend?\n",
    "\n",
    "And you we look that the 'crimes per hour' (on vertical axis), we can observe that the average number of crimes reported in Southern district is nearly 2.5 per hour, (that's nearly 55-60 per day) going up to nearly 3.0 per hour (and that's nearly 70 per day). Compare it to the other contenders who have an average of about 1.5 to 2.0 on average (thats about 30 to 45 per day)\n"
   ]
  },
  {
   "cell_type": "markdown",
   "metadata": {},
   "source": [
    "#### Crime rate over a month\n",
    "Here I try to plot a graph of crimes committed in an entire month against average crime rate per hour.\n",
    "\n",
    "also note that, I _again_ try to over lay the same data for the top 5 districts for comparision."
   ]
  },
  {
   "cell_type": "markdown",
   "metadata": {},
   "source": [
    "<img src=\"./by_month_plot.png\" alt=\"A plot showing 'crimes over a month' by 'hourly average'\" title=\"'crimes over a month' by 'hourly average'\" />\n",
    "_`The 'faint' lines indicate the actual crime rates over each month, while the 'bold' lines indicates the average of all 3 months.`_\n",
    "\n",
    "__[Source of image](./assign6-2.ipynb)__"
   ]
  },
  {
   "cell_type": "markdown",
   "metadata": {},
   "source": [
    "In the graph above we see that the picture changes a little, the weekly average that we have see is not exactly consistent across the whole month. While the average crime rate comparision between the top 5 districts remain more or less the same, the week wise distribution across the month is not the same.\n",
    "\n",
    "we can identify that crime rate goes up during the 1st and last weekend of the month, while it remains fairly consistent through the remainder of the month. (although we can still make out slight upticks during weekend)\n",
    "\n",
    "so, what does this mean? we need to remember that this data basically tell us about the number of crimes _*reported*_ which does not necessarily equal crimes _*commited*_\n",
    "\n",
    "*  does this indicate that there are more crimes committed at times corresponding to the 'peaks' shown in the graph? which means the police deparment's performance is consistent.\n",
    "\n",
    "*  or, does this mean that the police department becomes active at times corresponding to the 'peaks' shown in the graph? which means the crime rate is fairly consistent.\n",
    "\n",
    "*  or, is it a combination of the above 2 observations?\n",
    "\n",
    "For answers to all these questions, we may need to look at other aspects of data, drill fuurther into it and/or add data from other sources.\n",
    "\n",
    "But for now, this is what we have.\n",
    "\n",
    "\n",
    ".\n",
    ".\n",
    ".\n",
    "\n",
    "_Have a nice day and stay safe!_\n",
    "\n"
   ]
  },
 ],
 "metadata": {
  "kernelspec": {
   "display_name": "Python 3",
   "language": "python",
   "name": "python3"
  },
  "language_info": {
   "codemirror_mode": {
    "name": "ipython",
    "version": 3
   },
   "file_extension": ".py",
   "mimetype": "text/x-python",
   "name": "python",
   "nbconvert_exporter": "python",
   "pygments_lexer": "ipython3",
   "version": "3.6.5"
  }
 },
 "nbformat": 4,
 "nbformat_minor": 2
}
